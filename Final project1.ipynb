{
 "cells": [
  {
   "cell_type": "code",
   "execution_count": 22,
   "id": "88474d4d-ad1c-432d-b619-3cb6356d7ec8",
   "metadata": {},
   "outputs": [],
   "source": [
    "import numpy as np\n",
    "import matplotlib.pyplot as plt"
   ]
  },
  {
   "cell_type": "code",
   "execution_count": 23,
   "id": "ecd7b97e-6127-44c6-bb8f-0fee4d3df5bc",
   "metadata": {},
   "outputs": [],
   "source": [
    "##############################################################################\n",
    "# simulate the states and observations\n",
    "##############################################################################\n",
    "def simulate(k=200, D=np.array([1, 0, 0, 0, 0, 0]), delta=0, warmup=False):\n",
    "    \"\"\"\n",
    "    Simulates a sequence of states and observations for given HMM parameters.\n",
    "\n",
    "    Args:\n",
    "    - k: Length of the sequence (default 200)\n",
    "    - D: Initial state probabilities (default [1, 0, 0, 0, 0, 0])\n",
    "    - delta: Policy modifier (default 0)\n",
    "    - warmup: If True, simulate 50 warm-up steps and return the result from step 51 (default False)\n",
    "\n",
    "    Returns:\n",
    "    - s_onehot: One-hot encoded state sequence\n",
    "    - o_onehot: One-hot encoded observation sequence\n",
    "    \"\"\"\n",
    "\n",
    "    B = np.array([\n",
    "        [0.1, 0.9, 0, 0, 0, 0],\n",
    "        [0.2, 0, 0.1 + delta, 0, 0, 0.7 - delta],\n",
    "        [0, 0.5, 0, 0.5, 0, 0],\n",
    "        [0, 0, 0.5, 0.5, 0, 0],\n",
    "        [0, 0, 0.1, 0, 0.4, 0.5],\n",
    "        [0, 0.2, 0, 0, 0.7, 0.1]\n",
    "    ])\n",
    "\n",
    "    A = np.array([\n",
    "        [0.25, 0.25, 0.25, 0.25],\n",
    "        [0.35, 0.35, 0.15, 0.15],\n",
    "        [0.4, 0.4, 0.1, 0.1],\n",
    "        [0.4, 0.4, 0.1, 0.1],\n",
    "        [0.05, 0.05, 0.2, 0.7],\n",
    "        [0.1, 0.05, 0.35, 0.5]\n",
    "    ])\n",
    "\n",
    "    total_steps = k + 50 if warmup else k\n",
    "\n",
    "    s = np.zeros(total_steps, dtype=int)\n",
    "    o = np.zeros(total_steps, dtype=int)\n",
    "\n",
    "    # Initial state and observation\n",
    "    s[0] = np.random.choice(6, p=D)\n",
    "    o[0] = np.random.choice(4, p=A[s[0], :])\n",
    "\n",
    "    # Simulate the sequence\n",
    "    for t in range(1, total_steps):\n",
    "        s[t] = np.random.choice(6, p=B[s[t - 1], :])\n",
    "        o[t] = np.random.choice(4, p=A[s[t], :])\n",
    "\n",
    "    # Apply warm-up logic\n",
    "    if warmup:\n",
    "        s = s[50:]\n",
    "        o = o[50:]\n",
    "\n",
    "    s_onehot = np.eye(6)[s]\n",
    "    o_onehot = np.eye(4)[o]\n",
    "\n",
    "    return s_onehot, o_onehot\n",
    "\n",
    "def viterbi_decode(o, A, B):\n",
    "    \"\"\"Decodes the most likely state sequence given an observation sequence and HMM parameters.\n",
    "\n",
    "    Args:\n",
    "    - o: Observation sequence\n",
    "    - A: emission matrix\n",
    "    - B: Transition matrix\n",
    "\n",
    "    \"\"\"\n",
    "    n_obs = len(o)\n",
    "    n_states = B.shape[0]\n",
    "    dp = np.zeros((n_obs, n_states))\n",
    "    prev = np.zeros((n_obs, n_states), dtype=int)\n",
    "\n",
    "    dp[0] = np.log(A[:, o[0]])\n",
    "    for t in range(1, n_obs):\n",
    "        for i in range(n_states):\n",
    "            temp = dp[t - 1] + np.log(B[:, i]) + np.log(A[i, o[t]])\n",
    "            dp[t, i] = np.max(temp)\n",
    "            prev[t, i] = np.argmax(temp)\n",
    "    path = np.zeros(n_obs, dtype=int)\n",
    "    path[-1] = np.argmax(dp[-1])\n",
    "    for t in range(n_obs - 2, -1, -1):\n",
    "        path[t] = prev[t + 1, path[t + 1]]\n",
    "\n",
    "    return path + 1"
   ]
  },
  {
   "cell_type": "markdown",
   "id": "2b97b324-1b0a-4d9d-8987-7f0e3b2311ea",
   "metadata": {},
   "source": [
    "# A"
   ]
  },
  {
   "cell_type": "code",
   "execution_count": 3,
   "id": "34d2f407-e426-480d-a019-00a024cfdc6b",
   "metadata": {},
   "outputs": [],
   "source": [
    "# Generate 101 observations since we need observations[100] to calculate belief[99]\n",
    "k = 101\n",
    "D = np.array([1, 0, 0, 0, 0, 0])\n",
    "delta = 0.1\n",
    "warmup = True\n",
    "states, observations = simulate(k, D, delta,warmup)"
   ]
  },
  {
   "cell_type": "code",
   "execution_count": 4,
   "id": "8aa14cb1-cd8b-492a-80bb-ee8ad210d380",
   "metadata": {},
   "outputs": [],
   "source": [
    "B = np.array([\n",
    "    [0.1, 0.9, 0, 0, 0, 0],\n",
    "    [0.2, 0, 0.1 + delta, 0, 0, 0.7 - delta],\n",
    "    [0, 0.5, 0, 0.5, 0, 0],\n",
    "    [0, 0, 0.5, 0.5, 0, 0],\n",
    "    [0, 0, 0.1, 0, 0.4, 0.5],\n",
    "    [0, 0.2, 0, 0, 0.7, 0.1]\n",
    "])\n",
    "A = np.array([\n",
    "    [0.25, 0.25, 0.25, 0.25],\n",
    "    [0.35, 0.35, 0.15, 0.15],\n",
    "    [0.4, 0.4, 0.1, 0.1],\n",
    "    [0.4, 0.4, 0.1, 0.1],\n",
    "    [0.05, 0.05, 0.2, 0.7],\n",
    "    [0.1, 0.05, 0.35, 0.5]\n",
    "])"
   ]
  },
  {
   "cell_type": "code",
   "execution_count": 24,
   "id": "6b163e05-4f50-4a03-8636-312a2c153203",
   "metadata": {},
   "outputs": [],
   "source": [
    "def update_beliefs(observations, D, B, A):\n",
    "    \"\"\"\n",
    "    observations: Array of simulated observations\n",
    "    D: Initial probability matrix\n",
    "    A: Observation matrix\n",
    "    B: Transition matrix\n",
    "    v: Average membrane potential\n",
    "    \"\"\"\n",
    "    k = len(observations)\n",
    "    beliefs = np.zeros((k, len(D)))\n",
    "    v = np.zeros((k, len(D)))\n",
    "    beliefs[0] = D\n",
    "    for t in range(1, k):\n",
    "        forward = np.dot(B, beliefs[t-1] + 1e-8)\n",
    "        backward = np.dot(B.T, beliefs[t+1] + 1e-8) if t < k - 1 else np.ones(len(D))\n",
    "        o_t = observations[t]\n",
    "        observation_likelihood = np.dot(A, o_t)\n",
    "        epsilon = 0.5 * (np.log(forward + 1e-8) + np.log(backward + 1e-8)) + np.log(observation_likelihood + 1e-8) - np.log(beliefs[t] + 1e-8)\n",
    "        v[t] = v[t] + epsilon\n",
    "        beliefs[t] = np.exp(v[t] - np.max(v[t]))\n",
    "        beliefs[t] /= beliefs[t].sum()\n",
    "\n",
    "    beliefs = beliefs[0:k-1]\n",
    "    return beliefs, v"
   ]
  },
  {
   "cell_type": "code",
   "execution_count": 6,
   "id": "ddc37583-e159-4b17-99f9-bec1a833ad25",
   "metadata": {},
   "outputs": [
    {
     "data": {
      "text/plain": [
       "'\\ndef update_beliefs_cont(beliefs_1, v_1, observations, B, A):\\n    k = 9\\n    beliefs = np.zeros((k, 6))\\n    v = np.zeros((k, 6))\\n    beliefs[0] = beliefs_1\\n    v[0] = v_1\\n    for t in range(1, k):\\n        forward = np.dot(B, beliefs[t-1] + 1e-8)\\n        backward = np.dot(B.T, beliefs[t+1] + 1e-8)\\n        o_t = observations[t].T\\n        observation_likelihood = np.dot(A, o_t)\\n        epsilon = 0.5 * (np.log(forward + 1e-8) + np.log(backward + 1e-8)) + np.log(observation_likelihood + 1e-8) - np.log(beliefs[t] + 1e-8)\\n        v[t] = v[t] + epsilon\\n        beliefs[t] = np.exp(v[t] - np.max(v[t]))\\n        beliefs[t] /= beliefs[t].sum()\\n\\n    beliefs = beliefs[0:k-1]\\n    return beliefs, v\\n'"
      ]
     },
     "execution_count": 6,
     "metadata": {},
     "output_type": "execute_result"
    }
   ],
   "source": [
    "'''\n",
    "def update_beliefs_cont(beliefs_1, v_1, observations, B, A):\n",
    "    k = 9\n",
    "    beliefs = np.zeros((k, 6))\n",
    "    v = np.zeros((k, 6))\n",
    "    beliefs[0] = beliefs_1\n",
    "    v[0] = v_1\n",
    "    for t in range(1, k):\n",
    "        forward = np.dot(B, beliefs[t-1] + 1e-8)\n",
    "        backward = np.dot(B.T, beliefs[t+1] + 1e-8)\n",
    "        o_t = observations[t].T\n",
    "        observation_likelihood = np.dot(A, o_t)\n",
    "        epsilon = 0.5 * (np.log(forward + 1e-8) + np.log(backward + 1e-8)) + np.log(observation_likelihood + 1e-8) - np.log(beliefs[t] + 1e-8)\n",
    "        v[t] = v[t] + epsilon\n",
    "        beliefs[t] = np.exp(v[t] - np.max(v[t]))\n",
    "        beliefs[t] /= beliefs[t].sum()\n",
    "\n",
    "    beliefs = beliefs[0:k-1]\n",
    "    return beliefs, v\n",
    "'''"
   ]
  },
  {
   "cell_type": "code",
   "execution_count": 7,
   "id": "a1d23cc8-a097-489b-8f7d-87bb19f77892",
   "metadata": {},
   "outputs": [],
   "source": [
    "beliefs, v = update_beliefs(observations, D, B, A)"
   ]
  },
  {
   "cell_type": "code",
   "execution_count": 8,
   "id": "8d11e6ce-937a-4dac-97be-bd4b0e35e9d8",
   "metadata": {},
   "outputs": [
    {
     "data": {
      "image/png": "[encoded data removed]",
      "text/plain": [
       "<Figure size 1000x600 with 1 Axes>"
      ]
     },
     "metadata": {},
     "output_type": "display_data"
    }
   ],
   "source": [
    "plt.figure(figsize=(10, 6))\n",
    "plt.boxplot(beliefs[3:], vert=True, patch_artist=True, showmeans=True)\n",
    "\n",
    "plt.xlabel(\"State Index\")\n",
    "plt.ylabel(\"Belief Values\")\n",
    "plt.title(\"Box Plot of Belief Lists\")\n",
    "plt.xticks(ticks=range(1, beliefs.shape[1] + 1), labels=[f\"State {i}\" for i in range(1, beliefs.shape[1] + 1)])\n",
    "\n",
    "plt.show()"
   ]
  },
  {
   "cell_type": "markdown",
   "id": "fc6c3dca-2b22-422c-8e52-a014ea96d42b",
   "metadata": {},
   "source": [
    "# B"
   ]
  },
  {
   "cell_type": "code",
   "execution_count": 9,
   "id": "cdc977e3-ae30-4a5e-ab74-acd21ef14420",
   "metadata": {},
   "outputs": [],
   "source": [
    "k = 101\n",
    "D = np.array([1, 0, 0, 0, 0, 0])\n",
    "delta = 0.4\n",
    "warmup = True\n",
    "states, observations = simulate(k, D, delta,warmup)"
   ]
  },
  {
   "cell_type": "code",
   "execution_count": 10,
   "id": "cd09389d-89ab-49ef-935d-b20a470ee72f",
   "metadata": {},
   "outputs": [],
   "source": [
    "beliefs, v = update_beliefs(observations, D, B, A)"
   ]
  },
  {
   "cell_type": "code",
   "execution_count": 11,
   "id": "42aef9d4-28cb-4ddd-9fe4-8a8053508896",
   "metadata": {},
   "outputs": [
    {
     "data": {
      "image/png": "[encoded data removed]",
      "text/plain": [
       "<Figure size 1000x600 with 1 Axes>"
      ]
     },
     "metadata": {},
     "output_type": "display_data"
    }
   ],
   "source": [
    "plt.figure(figsize=(10, 6))\n",
    "plt.boxplot(beliefs[3:], vert=True, patch_artist=True, showmeans=True)\n",
    "\n",
    "plt.xlabel(\"State Index\")\n",
    "plt.ylabel(\"Belief Values\")\n",
    "plt.title(\"Box Plot of Belief Lists\")\n",
    "plt.xticks(ticks=range(1, beliefs.shape[1] + 1), labels=[f\"State {i}\" for i in range(1, beliefs.shape[1] + 1)])\n",
    "\n",
    "plt.show()"
   ]
  },
  {
   "cell_type": "markdown",
   "id": "723fd444-885d-4198-b9d3-711d85db2a60",
   "metadata": {},
   "source": [
    "If when choose delta = 0.4, which leads to less risky states. The beliefs of risky state 5 and state 6 is less."
   ]
  },
  {
   "cell_type": "markdown",
   "id": "db416872-1ae1-4bd9-83c5-8901b41b88aa",
   "metadata": {},
   "source": [
    "# C"
   ]
  },
  {
   "cell_type": "markdown",
   "id": "4e46a3b8-9844-440a-825b-96038dcb3256",
   "metadata": {},
   "source": [
    "policy 1: delta = 0.1"
   ]
  },
  {
   "cell_type": "code",
   "execution_count": 12,
   "id": "11b07311-7e53-400d-b493-085edb6fd707",
   "metadata": {},
   "outputs": [],
   "source": [
    "k = 101\n",
    "D = np.array([1, 0, 0, 0, 0, 0])\n",
    "delta = 0.1\n",
    "warmup = True\n",
    "states, observations = simulate(k, D, delta,warmup)"
   ]
  },
  {
   "cell_type": "code",
   "execution_count": 13,
   "id": "3594055e-66e3-414a-8250-79292ad7a343",
   "metadata": {},
   "outputs": [],
   "source": [
    "# Using KL Divergence since c_t has 0s\n",
    "theta = 1e-7\n",
    "c_t = np.array([0.5 - theta/2, 0.5 - theta/2, theta/2, theta/2])"
   ]
  },
  {
   "cell_type": "code",
   "execution_count": 14,
   "id": "db26ef44-0899-496d-9321-cd422e1eee70",
   "metadata": {},
   "outputs": [],
   "source": [
    "beliefs, v = update_beliefs(observations, D, B, A)"
   ]
  },
  {
   "cell_type": "code",
   "execution_count": 15,
   "id": "dc23ace9-3d45-46b9-9108-6e703d1b561d",
   "metadata": {},
   "outputs": [
    {
     "data": {
      "text/plain": [
       "array([0.1869902 , 0.22901334, 0.29336523, 0.23482848, 0.02607078,\n",
       "       0.02973196])"
      ]
     },
     "execution_count": 15,
     "metadata": {},
     "output_type": "execute_result"
    }
   ],
   "source": [
    "s_policy1 = beliefs[99]\n",
    "s_policy1"
   ]
  },
  {
   "cell_type": "code",
   "execution_count": 16,
   "id": "eec237b5-58f8-4d4c-8f42-136a0d33e9de",
   "metadata": {},
   "outputs": [],
   "source": [
    "o_policy1 = np.dot(A.T,s_policy1)"
   ]
  },
  {
   "cell_type": "code",
   "execution_count": 17,
   "id": "8e1535eb-8659-490c-84f4-5bb6ec03bb6a",
   "metadata": {},
   "outputs": [
    {
     "data": {
      "text/plain": [
       "4.4787910560878705"
      ]
     },
     "execution_count": 17,
     "metadata": {},
     "output_type": "execute_result"
    }
   ],
   "source": [
    "np.dot(o_policy1, np.log(o_policy1) - np.log(c_t))"
   ]
  },
  {
   "cell_type": "markdown",
   "id": "408cb0c4-080b-4508-82ea-5c3a07e17d2a",
   "metadata": {},
   "source": [
    "policy 2: delta = 0.4"
   ]
  },
  {
   "cell_type": "code",
   "execution_count": 18,
   "id": "06ae06e6-46c5-456c-896f-c4afe73801e4",
   "metadata": {},
   "outputs": [],
   "source": [
    "k = 101\n",
    "D = np.array([1, 0, 0, 0, 0, 0])\n",
    "delta = 0.4\n",
    "warmup = True\n",
    "states, observations = simulate(k, D, delta,warmup)"
   ]
  },
  {
   "cell_type": "code",
   "execution_count": 19,
   "id": "e3047397-5b29-45e9-925f-26ee32148c16",
   "metadata": {},
   "outputs": [],
   "source": [
    "beliefs, v = update_beliefs(observations, D, B, A)"
   ]
  },
  {
   "cell_type": "code",
   "execution_count": 20,
   "id": "be4a19b2-544c-4e4f-8b70-e5fe00ee0009",
   "metadata": {},
   "outputs": [
    {
     "data": {
      "text/plain": [
       "array([0.13468407, 0.18844364, 0.29941956, 0.34208642, 0.01671982,\n",
       "       0.01864648])"
      ]
     },
     "execution_count": 20,
     "metadata": {},
     "output_type": "execute_result"
    }
   ],
   "source": [
    "s_policy2 = beliefs[99]\n",
    "s_policy2"
   ]
  },
  {
   "cell_type": "code",
   "execution_count": 21,
   "id": "b16c7201-93a0-47d7-8a65-ee3719cc83dc",
   "metadata": {},
   "outputs": [
    {
     "data": {
      "text/plain": [
       "array([0.35892933, 0.357997  , 0.13595839, 0.14711528])"
      ]
     },
     "execution_count": 21,
     "metadata": {},
     "output_type": "execute_result"
    }
   ],
   "source": [
    "o_policy2 = np.dot(A.T,s_policy2)\n",
    "o_policy2"
   ]
  },
  {
   "cell_type": "code",
   "execution_count": 22,
   "id": "65cfbbfd-a48a-41f4-b7ba-769ba20a294f",
   "metadata": {},
   "outputs": [
    {
     "data": {
      "text/plain": [
       "3.9669962120036844"
      ]
     },
     "execution_count": 22,
     "metadata": {},
     "output_type": "execute_result"
    }
   ],
   "source": [
    "np.dot(o_policy2, np.log(o_policy2) - np.log(c_t))"
   ]
  },
  {
   "cell_type": "markdown",
   "id": "dbd08cc1-9e14-484f-82cf-72d634e7c024",
   "metadata": {},
   "source": [
    "# D"
   ]
  },
  {
   "cell_type": "markdown",
   "id": "69115538-30c4-4a69-99cf-e677eedb54ae",
   "metadata": {},
   "source": [
    "policy 1: delta = 0.1"
   ]
  },
  {
   "cell_type": "code",
   "execution_count": 23,
   "id": "4d6fc531-d2d7-4298-98f6-2e3d7089d6e6",
   "metadata": {},
   "outputs": [],
   "source": [
    "k = 101\n",
    "D = np.array([1, 0, 0, 0, 0, 0])\n",
    "delta = 0.1\n",
    "warmup = True\n",
    "states, observations = simulate(k, D, delta,warmup)"
   ]
  },
  {
   "cell_type": "code",
   "execution_count": 24,
   "id": "f708e54e-6fdd-400d-a3ac-09c241951a0a",
   "metadata": {},
   "outputs": [],
   "source": [
    "beliefs, v = update_beliefs(observations, D, B, A)"
   ]
  },
  {
   "cell_type": "code",
   "execution_count": 25,
   "id": "1062f9e2-6b9b-4136-8b8b-d5c85149fa4a",
   "metadata": {},
   "outputs": [],
   "source": [
    "matrix1 = -np.diag(np.dot(A, np.log(A.T)))"
   ]
  },
  {
   "cell_type": "code",
   "execution_count": 26,
   "id": "125ecbb6-8260-4a63-8696-ca9156f869f7",
   "metadata": {},
   "outputs": [
    {
     "data": {
      "text/plain": [
       "1.226051404403989"
      ]
     },
     "execution_count": 26,
     "metadata": {},
     "output_type": "execute_result"
    }
   ],
   "source": [
    "np.dot(matrix1, beliefs[99])"
   ]
  },
  {
   "cell_type": "markdown",
   "id": "deffb8d7-5b96-40dc-952f-078121d92c26",
   "metadata": {},
   "source": [
    "policy 2: delta = 0.4"
   ]
  },
  {
   "cell_type": "code",
   "execution_count": 27,
   "id": "588d3979-4671-42f2-915c-ca95afa02858",
   "metadata": {},
   "outputs": [],
   "source": [
    "k = 101\n",
    "D = np.array([1, 0, 0, 0, 0, 0])\n",
    "delta = 0.4\n",
    "warmup = True\n",
    "states, observations = simulate(k, D, delta, warmup)"
   ]
  },
  {
   "cell_type": "code",
   "execution_count": 28,
   "id": "c2b322ee-b673-49b3-a9c4-ce599a2c7e13",
   "metadata": {},
   "outputs": [],
   "source": [
    "beliefs, v = update_beliefs(observations, D, B, A)"
   ]
  },
  {
   "cell_type": "code",
   "execution_count": 29,
   "id": "1a0a1664-0606-4785-98ee-803a006ba862",
   "metadata": {},
   "outputs": [],
   "source": [
    "matrix2 = -np.diag(np.dot(A, np.log(A.T)))"
   ]
  },
  {
   "cell_type": "code",
   "execution_count": 30,
   "id": "01796fd8-0bb7-4111-932b-e8d1f131ca8d",
   "metadata": {},
   "outputs": [
    {
     "data": {
      "text/plain": [
       "1.0396823538723958"
      ]
     },
     "execution_count": 30,
     "metadata": {},
     "output_type": "execute_result"
    }
   ],
   "source": [
    "np.dot(matrix2, beliefs[99])"
   ]
  },
  {
   "cell_type": "markdown",
   "id": "6abc3be7-bb33-40a8-a2f8-90730aec1577",
   "metadata": {},
   "source": [
    "# E"
   ]
  },
  {
   "cell_type": "markdown",
   "id": "7b4f2653-8777-4f25-b2f9-adb9f265d346",
   "metadata": {},
   "source": [
    "# If loop just one policy"
   ]
  },
  {
   "cell_type": "code",
   "execution_count": 31,
   "id": "f9a9bfc5-049f-45fc-a1fc-7331b5afe8fb",
   "metadata": {},
   "outputs": [],
   "source": [
    "mu = [0, 0.1, -0.1, 0.2]"
   ]
  },
  {
   "cell_type": "code",
   "execution_count": 32,
   "id": "f99f029e-df85-4873-a672-5e06427b8458",
   "metadata": {},
   "outputs": [],
   "source": [
    "policy_1 = [mu[3], mu[0], mu[1], mu[2]]\n",
    "policy_2 = [mu[0], mu[3], mu[2], mu[2]]\n",
    "policy_3 = [mu[0], mu[0], mu[1], mu[2]]"
   ]
  },
  {
   "cell_type": "code",
   "execution_count": 33,
   "id": "f3568176-5e0e-40a2-846a-10a6cf099c30",
   "metadata": {},
   "outputs": [],
   "source": [
    "# Initial beliefs\n",
    "k = 101\n",
    "D = np.array([1, 0, 0, 0, 0, 0])\n",
    "delta = 0.1\n",
    "warmup = True\n",
    "states, observations = simulate(k, D, delta, warmup)"
   ]
  },
  {
   "cell_type": "code",
   "execution_count": 34,
   "id": "6ad11360-ca68-4333-8c97-8ac50b78f812",
   "metadata": {},
   "outputs": [],
   "source": [
    "states_list = []\n",
    "observations_list = []\n",
    "l = 1\n",
    "# Loop for 10 time steps\n",
    "for t in range(1, 12):  # t from 1 to 10\n",
    "    current_policy = policy_1[(t - 1) % len(policy_1)]\n",
    "    delta = current_policy\n",
    "    states_cont, observations_cont = simulate(l, D, delta, warmup)\n",
    "    states_list.append(states_cont)\n",
    "    observations_list.append(observations_cont)"
   ]
  },
  {
   "cell_type": "code",
   "execution_count": 35,
   "id": "6d8b466f-5c02-4cb5-97b8-eb681bed8e63",
   "metadata": {
    "scrolled": true
   },
   "outputs": [],
   "source": [
    "observations_list = np.vstack(observations_list)\n",
    "beliefs, v = update_beliefs(observations, D, B, A)\n",
    "Transition_matrix = []\n",
    "Transition_matrix.append(B)\n",
    "for t in range(1, 11):  # t from 1 to 10\n",
    "    current_policy = policy_1[(t - 1) % len(policy_1)]\n",
    "    delta = current_policy\n",
    "    Transition_matrix.append(B)"
   ]
  },
  {
   "cell_type": "code",
   "execution_count": 36,
   "id": "0a819fdf-1481-45a8-a7fb-ef9567e879b1",
   "metadata": {},
   "outputs": [],
   "source": [
    "k = len(observations_list)\n",
    "beliefs_updated = np.zeros((k, len(D)))\n",
    "beliefs_updated[0] = beliefs[99]\n",
    "v_updated = np.zeros((k, len(D)))\n",
    "v_updated[0] = v[99]"
   ]
  },
  {
   "cell_type": "code",
   "execution_count": 37,
   "id": "9579782d-6f6b-4ad7-ba6e-20adba107d8c",
   "metadata": {},
   "outputs": [],
   "source": [
    "for t in range(1, 10):  # t from 0 to 9\n",
    "    forward = np.dot(Transition_matrix[t-1], beliefs_updated[t-1] + 1e-8)\n",
    "    backward = np.dot(Transition_matrix[t+1].T, beliefs_updated[t+1] + 1e-8)\n",
    "    o_t = observations_list[t]\n",
    "    observation_likelihood = np.dot(A, o_t)\n",
    "    epsilon = 0.5 * (np.log(forward + 1e-8) + np.log(backward + 1e-8)) + np.log(observation_likelihood + 1e-8) - np.log(beliefs_updated[t] + 1e-8)\n",
    "    v[t] = v[t] + epsilon\n",
    "    beliefs_updated[t] = np.exp(v[t] - np.max(v[t]))\n",
    "    beliefs_updated[t] /= beliefs_updated[t].sum()"
   ]
  },
  {
   "cell_type": "code",
   "execution_count": 38,
   "id": "df19af27-c727-4666-9b4e-0219091ea228",
   "metadata": {},
   "outputs": [
    {
     "data": {
      "text/plain": [
       "array([0.04063832, 0.02178713, 0.00639196, 0.00368243, 0.54461567,\n",
       "       0.38288448])"
      ]
     },
     "execution_count": 38,
     "metadata": {},
     "output_type": "execute_result"
    }
   ],
   "source": [
    "policy1_belief = beliefs_updated[9]\n",
    "policy1_belief"
   ]
  },
  {
   "cell_type": "markdown",
   "id": "667c2e90-317d-4ddc-b54e-4725eafa9057",
   "metadata": {},
   "source": [
    "policy 2"
   ]
  },
  {
   "cell_type": "code",
   "execution_count": 39,
   "id": "1e8269ec-a0c6-4cd0-be72-7142e29b71f2",
   "metadata": {},
   "outputs": [],
   "source": [
    "states_list = []\n",
    "observations_list = []\n",
    "l = 1\n",
    "# Loop for 10 time steps\n",
    "for t in range(1, 12):  # t from 1 to 10\n",
    "    current_policy = policy_2[(t - 1) % len(policy_2)]\n",
    "    delta = current_policy\n",
    "    states_cont, observations_cont = simulate(l, D, delta, warmup)\n",
    "    states_list.append(states_cont)\n",
    "    observations_list.append(observations_cont)"
   ]
  },
  {
   "cell_type": "code",
   "execution_count": 40,
   "id": "df7d9181-0aec-42be-86db-614a4b960213",
   "metadata": {},
   "outputs": [],
   "source": [
    "observations_list = np.vstack(observations_list)\n",
    "Transition_matrix = []\n",
    "Transition_matrix.append(B)\n",
    "for t in range(1, 11):  # t from 1 to 10\n",
    "    current_policy = policy_2[(t - 1) % len(policy_2)]\n",
    "    delta = current_policy\n",
    "    Transition_matrix.append(B)"
   ]
  },
  {
   "cell_type": "code",
   "execution_count": 41,
   "id": "614cd86b-8188-455f-a3aa-0c418fb32a87",
   "metadata": {},
   "outputs": [],
   "source": [
    "k = len(observations_list)\n",
    "beliefs_updated = np.zeros((k, len(D)))\n",
    "beliefs_updated[0] = beliefs[99]\n",
    "v_updated = np.zeros((k, len(D)))\n",
    "v_updated[0] = v[99]"
   ]
  },
  {
   "cell_type": "code",
   "execution_count": 42,
   "id": "4e5b148d-ec69-4067-8f91-cd825d944bd5",
   "metadata": {},
   "outputs": [],
   "source": [
    "for t in range(1, 10):  # t from 0 to 9\n",
    "    forward = np.dot(Transition_matrix[t-1], beliefs_updated[t-1] + 1e-8)\n",
    "    backward = np.dot(Transition_matrix[t+1].T, beliefs_updated[t+1] + 1e-8)\n",
    "    o_t = observations_list[t]\n",
    "    observation_likelihood = np.dot(A, o_t)\n",
    "    epsilon = 0.5 * (np.log(forward + 1e-8) + np.log(backward + 1e-8)) + np.log(observation_likelihood + 1e-8) - np.log(beliefs_updated[t] + 1e-8)\n",
    "    v[t] = v[t] + epsilon\n",
    "    beliefs_updated[t] = np.exp(v[t] - np.max(v[t]))\n",
    "    beliefs_updated[t] /= beliefs_updated[t].sum()"
   ]
  },
  {
   "cell_type": "code",
   "execution_count": 43,
   "id": "52932877-5894-4912-b375-e80ad5df85a7",
   "metadata": {},
   "outputs": [
    {
     "data": {
      "text/plain": [
       "array([0.08646222, 0.06758635, 0.02047283, 0.00712054, 0.30187938,\n",
       "       0.51647867])"
      ]
     },
     "execution_count": 43,
     "metadata": {},
     "output_type": "execute_result"
    }
   ],
   "source": [
    "policy2_belief = beliefs_updated[9]\n",
    "policy2_belief"
   ]
  },
  {
   "cell_type": "markdown",
   "id": "8732df39-008a-4475-aff6-bc673fb81213",
   "metadata": {},
   "source": [
    "policy 3"
   ]
  },
  {
   "cell_type": "code",
   "execution_count": 44,
   "id": "148ad54e-2674-4407-b5fb-6a0e131779bb",
   "metadata": {},
   "outputs": [],
   "source": [
    "states_list = []\n",
    "observations_list = []\n",
    "l = 1\n",
    "# Loop for 10 time steps\n",
    "for t in range(1, 12):  # t from 1 to 10\n",
    "    current_policy = policy_3[(t - 1) % len(policy_3)]\n",
    "    delta = current_policy\n",
    "    states_cont, observations_cont = simulate(l, D, delta, warmup)\n",
    "    states_list.append(states_cont)\n",
    "    observations_list.append(observations_cont)"
   ]
  },
  {
   "cell_type": "code",
   "execution_count": 45,
   "id": "1b40a795-3d8c-4e47-b9b4-d2aeade6e461",
   "metadata": {},
   "outputs": [],
   "source": [
    "observations_list = np.vstack(observations_list)\n",
    "Transition_matrix = []\n",
    "Transition_matrix.append(B)\n",
    "for t in range(1, 11):  # t from 1 to 10\n",
    "    current_policy = policy_3[(t - 1) % len(policy_3)]\n",
    "    delta = current_policy\n",
    "    Transition_matrix.append(B)"
   ]
  },
  {
   "cell_type": "code",
   "execution_count": 46,
   "id": "24b0f7f0-5f8d-48c4-9433-f8784769e9e2",
   "metadata": {},
   "outputs": [],
   "source": [
    "k = len(observations_list)\n",
    "beliefs_updated = np.zeros((k, len(D)))\n",
    "beliefs_updated[0] = beliefs[99]\n",
    "v_updated = np.zeros((k, len(D)))\n",
    "v_updated[0] = v[99]"
   ]
  },
  {
   "cell_type": "code",
   "execution_count": 47,
   "id": "9435f6c3-2194-475d-8d64-4c94d789db74",
   "metadata": {},
   "outputs": [],
   "source": [
    "for t in range(1, 10):  # t from 0 to 9\n",
    "    forward = np.dot(Transition_matrix[t-1], beliefs_updated[t-1] + 1e-8)\n",
    "    backward = np.dot(Transition_matrix[t+1].T, beliefs_updated[t+1] + 1e-8)\n",
    "    o_t = observations_list[t]\n",
    "    observation_likelihood = np.dot(A, o_t)\n",
    "    epsilon = 0.5 * (np.log(forward + 1e-8) + np.log(backward + 1e-8)) + np.log(observation_likelihood + 1e-8) - np.log(beliefs_updated[t] + 1e-8)\n",
    "    v[t] = v[t] + epsilon\n",
    "    beliefs_updated[t] = np.exp(v[t] - np.max(v[t]))\n",
    "    beliefs_updated[t] /= beliefs_updated[t].sum()"
   ]
  },
  {
   "cell_type": "code",
   "execution_count": 48,
   "id": "f88a9621-fdc4-40b0-b86c-54b2e28f5178",
   "metadata": {},
   "outputs": [
    {
     "data": {
      "text/plain": [
       "array([0.09133439, 0.14554346, 0.03140466, 0.00567981, 0.14031092,\n",
       "       0.58572676])"
      ]
     },
     "execution_count": 48,
     "metadata": {},
     "output_type": "execute_result"
    }
   ],
   "source": [
    "policy3_belief = beliefs_updated[9]\n",
    "policy3_belief"
   ]
  },
  {
   "cell_type": "markdown",
   "id": "62c9b29f-d2a6-467f-b01d-dc24f4321311",
   "metadata": {},
   "source": [
    "calculate the risk estimations of these three policies"
   ]
  },
  {
   "cell_type": "code",
   "execution_count": 49,
   "id": "47530fa0-88c6-40af-bf5b-ca302f8a42a7",
   "metadata": {},
   "outputs": [],
   "source": [
    "c1 = np.array([0.25, 0.25, 0.25, 0.25])\n",
    "c2 = np.array([0.45, 0.45, 0.05, 0.05])"
   ]
  },
  {
   "cell_type": "code",
   "execution_count": 50,
   "id": "bf3f77d7-8e38-4b20-a7eb-84a18f90b87c",
   "metadata": {},
   "outputs": [],
   "source": [
    "o_policy1 = np.dot(A.T, policy1_belief)\n",
    "o_policy2 = np.dot(A.T, policy2_belief)\n",
    "o_policy3 = np.dot(A.T, policy3_belief)"
   ]
  },
  {
   "cell_type": "markdown",
   "id": "99afde7a-4dd5-4d5e-90b7-6dd231ed2eba",
   "metadata": {},
   "source": [
    "For c1:"
   ]
  },
  {
   "cell_type": "code",
   "execution_count": 51,
   "id": "f2d95f98-f0df-4f43-a360-c8b638a815d3",
   "metadata": {},
   "outputs": [
    {
     "name": "stdout",
     "output_type": "stream",
     "text": [
      "0.3282771778512513\n",
      "0.20135835394028367\n",
      "0.120039367599445\n"
     ]
    }
   ],
   "source": [
    "risk_policy1 = np.dot(o_policy1, np.log(o_policy1) - np.log(c1))\n",
    "risk_policy2 = np.dot(o_policy2, np.log(o_policy2) - np.log(c1))\n",
    "risk_policy3 = np.dot(o_policy3, np.log(o_policy3) - np.log(c1))\n",
    "print(risk_policy1)\n",
    "print(risk_policy2)\n",
    "print(risk_policy3)"
   ]
  },
  {
   "cell_type": "markdown",
   "id": "bf1f3386-94d4-472e-902a-44652e371d0e",
   "metadata": {},
   "source": [
    "policy3 is better since it has lower values for the risk term"
   ]
  },
  {
   "cell_type": "markdown",
   "id": "7ba597d3-fb95-4aba-9597-eb29d11fddcb",
   "metadata": {},
   "source": [
    "For c2:"
   ]
  },
  {
   "cell_type": "code",
   "execution_count": 52,
   "id": "a1faefbe-426e-4c98-b58c-2b8606c80237",
   "metadata": {},
   "outputs": [
    {
     "name": "stdout",
     "output_type": "stream",
     "text": [
      "1.5959941323068185\n",
      "1.3268004439777648\n",
      "1.1162202590422272\n"
     ]
    }
   ],
   "source": [
    "risk_policy1 = np.dot(o_policy1, np.log(o_policy1) - np.log(c2))\n",
    "risk_policy2 = np.dot(o_policy2, np.log(o_policy2) - np.log(c2))\n",
    "risk_policy3 = np.dot(o_policy3, np.log(o_policy3) - np.log(c2))\n",
    "print(risk_policy1)\n",
    "print(risk_policy2)\n",
    "print(risk_policy3)"
   ]
  },
  {
   "cell_type": "markdown",
   "id": "80982008-fd03-4163-b5c6-84fc0c433914",
   "metadata": {},
   "source": [
    "policy3 is better since it has lower values for the risk term"
   ]
  },
  {
   "cell_type": "markdown",
   "id": "ac334ce1-51fa-47a5-bfb0-05e9dd6df1c1",
   "metadata": {},
   "source": [
    "# If we could choose policy every 4 steps"
   ]
  },
  {
   "cell_type": "code",
   "execution_count": 2,
   "id": "f6a6bdba-c624-4d0d-b520-e02de28461c4",
   "metadata": {},
   "outputs": [],
   "source": [
    "from itertools import product"
   ]
  },
  {
   "cell_type": "code",
   "execution_count": 40,
   "id": "e117a8bc-4ec9-4ba8-9c2e-e2c158c2a4da",
   "metadata": {},
   "outputs": [],
   "source": [
    "A = np.array([\n",
    "    [0.25, 0.25, 0.25, 0.25],\n",
    "    [0.35, 0.35, 0.15, 0.15],\n",
    "    [0.4, 0.4, 0.1, 0.1],\n",
    "    [0.4, 0.4, 0.1, 0.1],\n",
    "    [0.05, 0.05, 0.2, 0.7],\n",
    "    [0.1, 0.05, 0.35, 0.5]\n",
    "])\n",
    "B = np.array([\n",
    "    [0.1, 0.9, 0, 0, 0, 0],\n",
    "    [0.2, 0, 0.1 + delta, 0, 0, 0.7 - delta],\n",
    "    [0, 0.5, 0, 0.5, 0, 0],\n",
    "    [0, 0, 0.5, 0.5, 0, 0],\n",
    "    [0, 0, 0.1, 0, 0.4, 0.5],\n",
    "    [0, 0.2, 0, 0, 0.7, 0.1]\n",
    "])\n",
    "c1 = np.array([0.25, 0.25, 0.25, 0.25])\n",
    "c2 = np.array([0.45, 0.45, 0.05, 0.05])"
   ]
  },
  {
   "cell_type": "code",
   "execution_count": 4,
   "id": "be17a548-2800-43c9-9433-5269e4b76c28",
   "metadata": {},
   "outputs": [],
   "source": [
    "# Define the policies\n",
    "mu = [0, 0.1, -0.1, 0.2]\n",
    "policy_1 = [mu[3], mu[0], mu[1], mu[2]]\n",
    "policy_2 = [mu[0], mu[3], mu[2], mu[2]]\n",
    "policy_3 = [mu[0], mu[0], mu[1], mu[2]]\n",
    "\n",
    "# List of policies\n",
    "policies = [policy_1, policy_2, policy_3]\n",
    "\n",
    "# Number of steps\n",
    "t_steps = 3\n",
    "\n",
    "# Generate all combinations of policies for t_steps\n",
    "policy_combinations = list(product(policies, repeat=t_steps))\n",
    "\n",
    "# Concatenate the actions for each combination\n",
    "all_combinations = [sum(combination, []) for combination in policy_combinations]"
   ]
  },
  {
   "cell_type": "code",
   "execution_count": 18,
   "id": "2b847a56-ea37-45b5-85c0-e4ce264ad881",
   "metadata": {},
   "outputs": [
    {
     "data": {
      "text/plain": [
       "[[0.2, 0, 0.1, -0.1, 0.2, 0, 0.1, -0.1, 0.2, 0, 0.1, -0.1],\n",
       " [0.2, 0, 0.1, -0.1, 0.2, 0, 0.1, -0.1, 0, 0.2, -0.1, -0.1],\n",
       " [0.2, 0, 0.1, -0.1, 0.2, 0, 0.1, -0.1, 0, 0, 0.1, -0.1],\n",
       " [0.2, 0, 0.1, -0.1, 0, 0.2, -0.1, -0.1, 0.2, 0, 0.1, -0.1],\n",
       " [0.2, 0, 0.1, -0.1, 0, 0.2, -0.1, -0.1, 0, 0.2, -0.1, -0.1],\n",
       " [0.2, 0, 0.1, -0.1, 0, 0.2, -0.1, -0.1, 0, 0, 0.1, -0.1],\n",
       " [0.2, 0, 0.1, -0.1, 0, 0, 0.1, -0.1, 0.2, 0, 0.1, -0.1],\n",
       " [0.2, 0, 0.1, -0.1, 0, 0, 0.1, -0.1, 0, 0.2, -0.1, -0.1],\n",
       " [0.2, 0, 0.1, -0.1, 0, 0, 0.1, -0.1, 0, 0, 0.1, -0.1],\n",
       " [0, 0.2, -0.1, -0.1, 0.2, 0, 0.1, -0.1, 0.2, 0, 0.1, -0.1],\n",
       " [0, 0.2, -0.1, -0.1, 0.2, 0, 0.1, -0.1, 0, 0.2, -0.1, -0.1],\n",
       " [0, 0.2, -0.1, -0.1, 0.2, 0, 0.1, -0.1, 0, 0, 0.1, -0.1],\n",
       " [0, 0.2, -0.1, -0.1, 0, 0.2, -0.1, -0.1, 0.2, 0, 0.1, -0.1],\n",
       " [0, 0.2, -0.1, -0.1, 0, 0.2, -0.1, -0.1, 0, 0.2, -0.1, -0.1],\n",
       " [0, 0.2, -0.1, -0.1, 0, 0.2, -0.1, -0.1, 0, 0, 0.1, -0.1],\n",
       " [0, 0.2, -0.1, -0.1, 0, 0, 0.1, -0.1, 0.2, 0, 0.1, -0.1],\n",
       " [0, 0.2, -0.1, -0.1, 0, 0, 0.1, -0.1, 0, 0.2, -0.1, -0.1],\n",
       " [0, 0.2, -0.1, -0.1, 0, 0, 0.1, -0.1, 0, 0, 0.1, -0.1],\n",
       " [0, 0, 0.1, -0.1, 0.2, 0, 0.1, -0.1, 0.2, 0, 0.1, -0.1],\n",
       " [0, 0, 0.1, -0.1, 0.2, 0, 0.1, -0.1, 0, 0.2, -0.1, -0.1],\n",
       " [0, 0, 0.1, -0.1, 0.2, 0, 0.1, -0.1, 0, 0, 0.1, -0.1],\n",
       " [0, 0, 0.1, -0.1, 0, 0.2, -0.1, -0.1, 0.2, 0, 0.1, -0.1],\n",
       " [0, 0, 0.1, -0.1, 0, 0.2, -0.1, -0.1, 0, 0.2, -0.1, -0.1],\n",
       " [0, 0, 0.1, -0.1, 0, 0.2, -0.1, -0.1, 0, 0, 0.1, -0.1],\n",
       " [0, 0, 0.1, -0.1, 0, 0, 0.1, -0.1, 0.2, 0, 0.1, -0.1],\n",
       " [0, 0, 0.1, -0.1, 0, 0, 0.1, -0.1, 0, 0.2, -0.1, -0.1],\n",
       " [0, 0, 0.1, -0.1, 0, 0, 0.1, -0.1, 0, 0, 0.1, -0.1]]"
      ]
     },
     "execution_count": 18,
     "metadata": {},
     "output_type": "execute_result"
    }
   ],
   "source": [
    "all_combinations"
   ]
  },
  {
   "cell_type": "code",
   "execution_count": 25,
   "id": "4be12bbf-a83d-4224-84cb-5cfdaf7f97d6",
   "metadata": {},
   "outputs": [],
   "source": [
    "# Initial beliefs\n",
    "k = 101\n",
    "D = np.array([1, 0, 0, 0, 0, 0])\n",
    "delta = 0.1\n",
    "warmup = True\n",
    "states, observations = simulate(k, D, delta, warmup)"
   ]
  },
  {
   "cell_type": "code",
   "execution_count": 52,
   "id": "4f02c31b-f72f-47b0-ab1f-657782b9ae1a",
   "metadata": {},
   "outputs": [
    {
     "name": "stdout",
     "output_type": "stream",
     "text": [
      "[0.04503056439410319, 0.04349884144704372, 0.13095950792219702, 0.04937800152924211, 0.0316536816057645, 0.14434010594074986, 0.075281866849597, 0.04898296038325162, 0.14800204157395846, 0.14792301621198037, 0.13140342922280085, 0.0310082932857976, 0.06634853445535566, 0.07871027272052658, 0.038776125696485045, 0.055499585372935145, 0.027833175658902976, 0.13532352512517906, 0.1331027379593454, 0.030596122110718327, 0.05181291637772242, 0.042409783229316655, 0.15010110726662934, 0.09541166056321332, 0.13689522943999383, 0.1502170225590646]\n"
     ]
    }
   ],
   "source": [
    "risk_list = []\n",
    "for i in range(1, len(all_combinations)):\n",
    "    states_list = []\n",
    "    observations_list = []\n",
    "    l = 1\n",
    "    for t in range(1, 13):\n",
    "        current_policy = all_combinations[i][t-1]\n",
    "        delta = current_policy\n",
    "        states_cont, observations_cont = simulate(l, D, delta, warmup)\n",
    "        states_list.append(states_cont)\n",
    "        observations_list.append(observations_cont)\n",
    "    observations_list = np.vstack(observations_list)\n",
    "    beliefs, v = update_beliefs(observations, D, B, A)\n",
    "    Transition_matrix = []\n",
    "    Transition_matrix.append(B)\n",
    "    for t in range(1, 11):  # t from 1 to 10\n",
    "        current_policy = policy_3[(t - 1) % len(policy_3)]\n",
    "        delta = current_policy\n",
    "        Transition_matrix.append(B)\n",
    "    k = len(observations_list)\n",
    "    beliefs_updated = np.zeros((k, len(D)))\n",
    "    beliefs_updated[0] = beliefs[99]\n",
    "    v_updated = np.zeros((k, len(D)))\n",
    "    v_updated[0] = v[99]\n",
    "    for t in range(1, 10):  # t from 0 to 9\n",
    "        forward = np.dot(Transition_matrix[t-1], beliefs_updated[t-1] + 1e-8)\n",
    "        backward = np.dot(Transition_matrix[t+1].T, beliefs_updated[t+1] + 1e-8)\n",
    "        o_t = observations_list[t]\n",
    "        observation_likelihood = np.dot(A, o_t)\n",
    "        epsilon = 0.5 * (np.log(forward + 1e-8) + np.log(backward + 1e-8)) + np.log(observation_likelihood + 1e-8) - np.log(beliefs_updated[t] + 1e-8)\n",
    "        v[t] = v[t] + epsilon\n",
    "        beliefs_updated[t] = np.exp(v[t] - np.max(v[t]))\n",
    "        beliefs_updated[t] /= beliefs_updated[t].sum()\n",
    "    policy_belief = beliefs_updated[9]\n",
    "    o_policy = np.dot(A.T, policy_belief)\n",
    "    risk_policy = np.dot(o_policy, np.log(o_policy) - np.log(c1))\n",
    "    risk_list.append(risk_policy)\n",
    "\n",
    "print(risk_list)"
   ]
  },
  {
   "cell_type": "code",
   "execution_count": 55,
   "id": "baf04db5-f89b-43d9-8c42-34fa2c61b9ee",
   "metadata": {},
   "outputs": [
    {
     "data": {
      "image/png": "[encoded data removed]",
      "text/plain": [
       "<Figure size 1000x500 with 1 Axes>"
      ]
     },
     "metadata": {},
     "output_type": "display_data"
    }
   ],
   "source": [
    "# Find the minimum value and its index\n",
    "min_value = min(risk_list)\n",
    "min_index = risk_list.index(min_value)\n",
    "\n",
    "# Plot the values\n",
    "plt.figure(figsize=(10, 5))\n",
    "plt.plot(risk_list, marker='o', linestyle='-', color='b', label='Values')\n",
    "plt.scatter(min_index, min_value, color='red', label='Minimum Value', zorder=5)\n",
    "plt.text(min_index, min_value, f\"Min: {min_value:.5f}\", color='red', fontsize=10, ha='right')\n",
    "\n",
    "# Add labels and legend\n",
    "plt.title(\"Plot of Values with Minimum Highlighted\")\n",
    "plt.xlabel(\"Index\")\n",
    "plt.ylabel(\"Value\")\n",
    "plt.grid(True)\n",
    "plt.legend()\n",
    "plt.show()"
   ]
  },
  {
   "cell_type": "code",
   "execution_count": 58,
   "id": "0985fb6e-189b-46f6-ae91-34a12d4f22fd",
   "metadata": {},
   "outputs": [
    {
     "name": "stdout",
     "output_type": "stream",
     "text": [
      "Optimal combination is: \n"
     ]
    },
    {
     "data": {
      "text/plain": [
       "[0, 0.2, -0.1, -0.1, 0, 0, 0.1, -0.1, 0, 0.2, -0.1, -0.1]"
      ]
     },
     "execution_count": 58,
     "metadata": {},
     "output_type": "execute_result"
    }
   ],
   "source": [
    "print(\"Optimal combination is: \")\n",
    "all_combinations[min_index]"
   ]
  },
  {
   "cell_type": "code",
   "execution_count": 59,
   "id": "fc254ec8-4238-49e7-b0a3-4a0f6c737665",
   "metadata": {},
   "outputs": [],
   "source": [
    "# Initial beliefs\n",
    "k = 101\n",
    "D = np.array([1, 0, 0, 0, 0, 0])\n",
    "delta = 0.1\n",
    "warmup = True\n",
    "states, observations = simulate(k, D, delta, warmup)"
   ]
  },
  {
   "cell_type": "code",
   "execution_count": 60,
   "id": "f4a8ff35-e5c2-4b4a-8208-e19ae271372f",
   "metadata": {},
   "outputs": [
    {
     "name": "stdout",
     "output_type": "stream",
     "text": [
      "[0.11619765502348098, 0.4515907472714218, 0.1353610930400237, 0.16249309780264704, 0.3617539346632021, 0.3977845738173464, 0.5635376634914383, 0.43476051167838203, 0.11120074771354044, 0.5045754815107995, 0.14259988543084745, 0.14302344108661955, 0.14205628742400117, 0.13430447853595046, 0.5489657384443036, 0.13207144693070202, 0.11873893169426245, 0.3550802408865765, 0.5143651933735687, 0.1402332419635497, 0.5108571482650569, 0.14199952363278429, 0.415499784313405, 0.16324972281297523, 0.36993076797523217, 0.3382970644477483]\n"
     ]
    }
   ],
   "source": [
    "risk_list = []\n",
    "for i in range(1, len(all_combinations)):\n",
    "    states_list = []\n",
    "    observations_list = []\n",
    "    l = 1\n",
    "    for t in range(1, 13):\n",
    "        current_policy = all_combinations[i][t-1]\n",
    "        delta = current_policy\n",
    "        states_cont, observations_cont = simulate(l, D, delta, warmup)\n",
    "        states_list.append(states_cont)\n",
    "        observations_list.append(observations_cont)\n",
    "    observations_list = np.vstack(observations_list)\n",
    "    beliefs, v = update_beliefs(observations, D, B, A)\n",
    "    Transition_matrix = []\n",
    "    Transition_matrix.append(B)\n",
    "    for t in range(1, 11):  # t from 1 to 10\n",
    "        current_policy = policy_3[(t - 1) % len(policy_3)]\n",
    "        delta = current_policy\n",
    "        Transition_matrix.append(B)\n",
    "    k = len(observations_list)\n",
    "    beliefs_updated = np.zeros((k, len(D)))\n",
    "    beliefs_updated[0] = beliefs[99]\n",
    "    v_updated = np.zeros((k, len(D)))\n",
    "    v_updated[0] = v[99]\n",
    "    for t in range(1, 10):  # t from 0 to 9\n",
    "        forward = np.dot(Transition_matrix[t-1], beliefs_updated[t-1] + 1e-8)\n",
    "        backward = np.dot(Transition_matrix[t+1].T, beliefs_updated[t+1] + 1e-8)\n",
    "        o_t = observations_list[t]\n",
    "        observation_likelihood = np.dot(A, o_t)\n",
    "        epsilon = 0.5 * (np.log(forward + 1e-8) + np.log(backward + 1e-8)) + np.log(observation_likelihood + 1e-8) - np.log(beliefs_updated[t] + 1e-8)\n",
    "        v[t] = v[t] + epsilon\n",
    "        beliefs_updated[t] = np.exp(v[t] - np.max(v[t]))\n",
    "        beliefs_updated[t] /= beliefs_updated[t].sum()\n",
    "    policy_belief = beliefs_updated[9]\n",
    "    o_policy = np.dot(A.T, policy_belief)\n",
    "    risk_policy = np.dot(o_policy, np.log(o_policy) - np.log(c2))\n",
    "    risk_list.append(risk_policy)\n",
    "\n",
    "print(risk_list)"
   ]
  },
  {
   "cell_type": "code",
   "execution_count": 61,
   "id": "8ce9b32e-717c-410a-842d-5630add58009",
   "metadata": {},
   "outputs": [
    {
     "data": {
      "image/png": "[encoded data removed]",
      "text/plain": [
       "<Figure size 1000x500 with 1 Axes>"
      ]
     },
     "metadata": {},
     "output_type": "display_data"
    }
   ],
   "source": [
    "# Find the minimum value and its index\n",
    "min_value = min(risk_list)\n",
    "min_index = risk_list.index(min_value)\n",
    "\n",
    "# Plot the values\n",
    "plt.figure(figsize=(10, 5))\n",
    "plt.plot(risk_list, marker='o', linestyle='-', color='b', label='Values')\n",
    "plt.scatter(min_index, min_value, color='red', label='Minimum Value', zorder=5)\n",
    "plt.text(min_index, min_value, f\"Min: {min_value:.5f}\", color='red', fontsize=10, ha='right')\n",
    "\n",
    "# Add labels and legend\n",
    "plt.title(\"Plot of Values with Minimum Highlighted\")\n",
    "plt.xlabel(\"Index\")\n",
    "plt.ylabel(\"Value\")\n",
    "plt.grid(True)\n",
    "plt.legend()\n",
    "plt.show()"
   ]
  },
  {
   "cell_type": "code",
   "execution_count": 62,
   "id": "62c58d27-b263-44ca-a561-e768672efe0d",
   "metadata": {},
   "outputs": [
    {
     "name": "stdout",
     "output_type": "stream",
     "text": [
      "Optimal combination is: \n"
     ]
    },
    {
     "data": {
      "text/plain": [
       "[0.2, 0, 0.1, -0.1, 0, 0, 0.1, -0.1, 0, 0, 0.1, -0.1]"
      ]
     },
     "execution_count": 62,
     "metadata": {},
     "output_type": "execute_result"
    }
   ],
   "source": [
    "print(\"Optimal combination is: \")\n",
    "all_combinations[min_index]"
   ]
  }
 ],
 "metadata": {
  "kernelspec": {
   "display_name": "Python 3 (ipykernel)",
   "language": "python",
   "name": "python3"
  },
  "language_info": {
   "codemirror_mode": {
    "name": "ipython",
    "version": 3
   },
   "file_extension": ".py",
   "mimetype": "text/x-python",
   "name": "python",
   "nbconvert_exporter": "python",
   "pygments_lexer": "ipython3",
   "version": "3.12.8"
  }
 },
 "nbformat": 4,
 "nbformat_minor": 5
}
